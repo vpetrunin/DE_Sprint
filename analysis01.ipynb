{
  "nbformat": 4,
  "nbformat_minor": 0,
  "metadata": {
    "colab": {
      "provenance": [],
      "collapsed_sections": [],
      "authorship_tag": "ABX9TyPO4S5oZjjcCowByHPG9B+T",
      "include_colab_link": true
    },
    "kernelspec": {
      "name": "python3",
      "display_name": "Python 3"
    },
    "language_info": {
      "name": "python"
    }
  },
  "cells": [
    {
      "cell_type": "markdown",
      "metadata": {
        "id": "view-in-github",
        "colab_type": "text"
      },
      "source": [
        "<a href=\"https://colab.research.google.com/github/vpetrunin/DE_Sprint/blob/main/analysis01.ipynb\" target=\"_parent\"><img src=\"https://colab.research.google.com/assets/colab-badge.svg\" alt=\"Open In Colab\"/></a>"
      ]
    },
    {
      "cell_type": "code",
      "execution_count": null,
      "metadata": {
        "id": "Z3-lgmvWSFQu"
      },
      "outputs": [],
      "source": [
        "\n",
        "\n",
        "age=[]\n",
        "sex=[]\n",
        "bmi=[]\n",
        "children=[]\n",
        "smoker=[] \n",
        "region=[] \n",
        "charges=[]\t"
      ]
    }
  ]
}